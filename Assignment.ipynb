{
 "cells": [
  {
   "cell_type": "code",
   "execution_count": 30,
   "id": "989a446e",
   "metadata": {},
   "outputs": [],
   "source": [
    "# import 'Pandas' \n",
    "import pandas as pd \n",
    "\n",
    "# import 'Numpy' \n",
    "import numpy as np\n",
    "\n",
    "# import subpackage of Matplotlib\n",
    "import matplotlib.pyplot as plt\n",
    "\n",
    "# import 'Seaborn' \n",
    "import seaborn as sns\n",
    "\n",
    "# to suppress warnings \n",
    "from warnings import filterwarnings\n",
    "filterwarnings('ignore')\n",
    "\n",
    "# display all columns of the dataframe\n",
    "pd.options.display.max_columns = None\n",
    "\n",
    "# display all rows of the dataframe\n",
    "pd.options.display.max_rows = None\n",
    " \n",
    "# to display the float values upto 6 decimal places     \n",
    "pd.options.display.float_format = '{:.6f}'.format\n",
    "\n",
    "# import train-test split \n",
    "from sklearn.model_selection import train_test_split\n",
    "\n",
    "# import various functions from statsmodel to perform linear regression\n",
    "import statsmodels\n",
    "import statsmodels.api as sm\n",
    "import statsmodels.stats.api as sms\n",
    "from statsmodels.compat import lzip\n",
    "from statsmodels.stats.outliers_influence import variance_inflation_factor\n",
    "from statsmodels.graphics.gofplots import qqplot\n",
    "from statsmodels.stats.anova import anova_lm\n",
    "from statsmodels.formula.api import ols\n",
    "from statsmodels.tools.eval_measures import rmse\n",
    "\n",
    "# import various functions from scipy\n",
    "from scipy import stats\n",
    "from scipy.stats import shapiro\n",
    "\n",
    "# 'metrics' from sklearn is used for evaluating the model performance\n",
    "from sklearn.metrics import mean_absolute_error\n",
    "from sklearn.metrics import mean_squared_error"
   ]
  },
  {
   "cell_type": "code",
   "execution_count": 31,
   "id": "66162ea8",
   "metadata": {},
   "outputs": [
    {
     "data": {
      "text/html": [
       "<div>\n",
       "<style scoped>\n",
       "    .dataframe tbody tr th:only-of-type {\n",
       "        vertical-align: middle;\n",
       "    }\n",
       "\n",
       "    .dataframe tbody tr th {\n",
       "        vertical-align: top;\n",
       "    }\n",
       "\n",
       "    .dataframe thead th {\n",
       "        text-align: right;\n",
       "    }\n",
       "</style>\n",
       "<table border=\"1\" class=\"dataframe\">\n",
       "  <thead>\n",
       "    <tr style=\"text-align: right;\">\n",
       "      <th></th>\n",
       "      <th>General_knowledge</th>\n",
       "      <th>Aptitude</th>\n",
       "      <th>Mathematics</th>\n",
       "      <th>Science</th>\n",
       "      <th>SAT</th>\n",
       "    </tr>\n",
       "  </thead>\n",
       "  <tbody>\n",
       "    <tr>\n",
       "      <th>0</th>\n",
       "      <td>73</td>\n",
       "      <td>71</td>\n",
       "      <td>74</td>\n",
       "      <td>73</td>\n",
       "      <td>144</td>\n",
       "    </tr>\n",
       "    <tr>\n",
       "      <th>1</th>\n",
       "      <td>93</td>\n",
       "      <td>90</td>\n",
       "      <td>60</td>\n",
       "      <td>97</td>\n",
       "      <td>186</td>\n",
       "    </tr>\n",
       "    <tr>\n",
       "      <th>2</th>\n",
       "      <td>89</td>\n",
       "      <td>94</td>\n",
       "      <td>97</td>\n",
       "      <td>98</td>\n",
       "      <td>182</td>\n",
       "    </tr>\n",
       "    <tr>\n",
       "      <th>3</th>\n",
       "      <td>96</td>\n",
       "      <td>93</td>\n",
       "      <td>115</td>\n",
       "      <td>110</td>\n",
       "      <td>208</td>\n",
       "    </tr>\n",
       "    <tr>\n",
       "      <th>4</th>\n",
       "      <td>73</td>\n",
       "      <td>68</td>\n",
       "      <td>87</td>\n",
       "      <td>83</td>\n",
       "      <td>157</td>\n",
       "    </tr>\n",
       "  </tbody>\n",
       "</table>\n",
       "</div>"
      ],
      "text/plain": [
       "   General_knowledge   Aptitude   Mathematics   Science   SAT\n",
       "0                  73         71            74        73  144\n",
       "1                  93         90            60        97  186\n",
       "2                  89         94            97        98  182\n",
       "3                  96         93           115       110  208\n",
       "4                  73         68            87        83  157"
      ]
     },
     "execution_count": 31,
     "metadata": {},
     "output_type": "execute_result"
    }
   ],
   "source": [
    "# load the csv file\n",
    "# store the data in 'df_reimb'\n",
    "df = pd.read_csv('SAT_Exam.csv')\n",
    "\n",
    "# display first five observations using head()\n",
    "df.head()"
   ]
  },
  {
   "cell_type": "code",
   "execution_count": 32,
   "id": "0a723a77",
   "metadata": {},
   "outputs": [
    {
     "data": {
      "text/plain": [
       "(96, 5)"
      ]
     },
     "execution_count": 32,
     "metadata": {},
     "output_type": "execute_result"
    }
   ],
   "source": [
    "# use 'shape' to check the dimension of data\n",
    "df.shape"
   ]
  },
  {
   "cell_type": "markdown",
   "id": "20c0069d",
   "metadata": {},
   "source": [
    "Interpretation: The data has 96 observations and 5 variables."
   ]
  },
  {
   "cell_type": "code",
   "execution_count": 33,
   "id": "8e2fb933",
   "metadata": {},
   "outputs": [
    {
     "name": "stdout",
     "output_type": "stream",
     "text": [
      "<class 'pandas.core.frame.DataFrame'>\n",
      "RangeIndex: 96 entries, 0 to 95\n",
      "Data columns (total 5 columns):\n",
      " #   Column              Non-Null Count  Dtype\n",
      "---  ------              --------------  -----\n",
      " 0   General_knowledge   96 non-null     int64\n",
      " 1   Aptitude            96 non-null     int64\n",
      " 2   Mathematics         96 non-null     int64\n",
      " 3   Science             96 non-null     int64\n",
      " 4   SAT                 96 non-null     int64\n",
      "dtypes: int64(5)\n",
      "memory usage: 3.9 KB\n"
     ]
    }
   ],
   "source": [
    "# use 'info()' to understand the dataset\n",
    "df.info()"
   ]
  },
  {
   "cell_type": "code",
   "execution_count": 34,
   "id": "e995cf6f",
   "metadata": {},
   "outputs": [
    {
     "data": {
      "image/png": "[encoded data removed]",
      "text/plain": [
       "<Figure size 1080x576 with 1 Axes>"
      ]
     },
     "metadata": {
      "needs_background": "light"
     },
     "output_type": "display_data"
    }
   ],
   "source": [
    "# set the plot size using figure()\n",
    "# pass width and height in inches to 'figsize' \n",
    "plt.figure(figsize = (15,8))\n",
    "\n",
    "# plot a boxplot to visualize the outliers in all the numeric variables\n",
    "df.boxplot()\n",
    "\n",
    "\n",
    "# set plot label\n",
    "# set text size using 'fontsize'\n",
    "plt.title('Distribution of all Numeric Variables', fontsize = 15)\n",
    "\n",
    "# xticks() returns the x-axis ticks\n",
    "# 'rotation = vertical' rotates the x-axis labels vertically\n",
    "plt.xticks(rotation = 'vertical', fontsize = 15)\n",
    "\n",
    "# display the plot\n",
    "plt.show()"
   ]
  },
  {
   "cell_type": "code",
   "execution_count": 35,
   "id": "431b4324",
   "metadata": {},
   "outputs": [
    {
     "data": {
      "text/plain": [
       "(89, 5)"
      ]
     },
     "execution_count": 35,
     "metadata": {},
     "output_type": "execute_result"
    }
   ],
   "source": [
    "# calculate the first quartile\n",
    "Q1 = df.quantile(0.25)\n",
    "\n",
    "# calculate the third quartile\n",
    "Q3 = df.quantile(0.75)\n",
    "\n",
    "# The Interquartile Range (IQR) is defined as the difference between the third and first quartile\n",
    "# calculate IQR for each numeric variable\n",
    "IQR = Q3 - Q1\n",
    "\n",
    "# retrieve the dataframe without the outliers\n",
    "# '~' returns the values that do not satisfy the given conditions \n",
    "# i.e. it returns values between the range [Q1-1.5*IQR, Q3+1.5*IQR]\n",
    "# '|' is used as 'OR' operator on multiple conditions   \n",
    "# 'any(axis=1)' checks the entire row for atleast one 'True' entry (those rows represents outliers in the data)\n",
    "df = df[~((df < (Q1 - 1.5 * IQR)) | (df > (Q3 + 1.5 * IQR))).any(axis=1)]\n",
    "\n",
    "# check the shape of the data\n",
    "df.shape"
   ]
  },
  {
   "cell_type": "code",
   "execution_count": 36,
   "id": "ddb1803e",
   "metadata": {},
   "outputs": [
    {
     "data": {
      "text/html": [
       "<div>\n",
       "<style scoped>\n",
       "    .dataframe tbody tr th:only-of-type {\n",
       "        vertical-align: middle;\n",
       "    }\n",
       "\n",
       "    .dataframe tbody tr th {\n",
       "        vertical-align: top;\n",
       "    }\n",
       "\n",
       "    .dataframe thead th {\n",
       "        text-align: right;\n",
       "    }\n",
       "</style>\n",
       "<table border=\"1\" class=\"dataframe\">\n",
       "  <thead>\n",
       "    <tr style=\"text-align: right;\">\n",
       "      <th></th>\n",
       "      <th>Total</th>\n",
       "      <th>Percentage of Missing Values</th>\n",
       "    </tr>\n",
       "  </thead>\n",
       "  <tbody>\n",
       "    <tr>\n",
       "      <th>General_knowledge</th>\n",
       "      <td>0</td>\n",
       "      <td>0.000000</td>\n",
       "    </tr>\n",
       "    <tr>\n",
       "      <th>Aptitude</th>\n",
       "      <td>0</td>\n",
       "      <td>0.000000</td>\n",
       "    </tr>\n",
       "    <tr>\n",
       "      <th>Mathematics</th>\n",
       "      <td>0</td>\n",
       "      <td>0.000000</td>\n",
       "    </tr>\n",
       "    <tr>\n",
       "      <th>Science</th>\n",
       "      <td>0</td>\n",
       "      <td>0.000000</td>\n",
       "    </tr>\n",
       "    <tr>\n",
       "      <th>SAT</th>\n",
       "      <td>0</td>\n",
       "      <td>0.000000</td>\n",
       "    </tr>\n",
       "  </tbody>\n",
       "</table>\n",
       "</div>"
      ],
      "text/plain": [
       "                    Total  Percentage of Missing Values\n",
       "General_knowledge       0                      0.000000\n",
       "Aptitude                0                      0.000000\n",
       "Mathematics             0                      0.000000\n",
       "Science                 0                      0.000000\n",
       "SAT                     0                      0.000000"
      ]
     },
     "execution_count": 36,
     "metadata": {},
     "output_type": "execute_result"
    }
   ],
   "source": [
    "# sort the variables on the basis of total null values in the variable\n",
    "# 'isnull().sum()' returns the number of missing values in each variable\n",
    "# 'ascending = False' sorts values in the descending order\n",
    "# the variable with highest number of missing values will appear first\n",
    "Total = df.isnull().sum().sort_values(ascending=False)          \n",
    "\n",
    "# calculate percentage of missing values\n",
    "# 'ascending = False' sorts values in the descending order\n",
    "# the variable with highest percentage of missing values will appear first\n",
    "Percent = (df.isnull().sum()*100/df.isnull().count()).sort_values(ascending=False)   \n",
    "\n",
    "# concat the 'Total' and 'Percent' columns using 'concat' function\n",
    "# pass a list of column names in parameter 'keys' \n",
    "# 'axis = 1' concats along the columns\n",
    "missing_data = pd.concat([Total, Percent], axis=1, keys=['Total', 'Percentage of Missing Values'])    \n",
    "missing_data"
   ]
  },
  {
   "cell_type": "markdown",
   "id": "721d283e",
   "metadata": {},
   "source": [
    "4.1 Ordinary Least Square Method (OLS)\n",
    "The ordinary least square method aims to minimize the sum of the squared difference between the actual and the predicted values. Squaring ensures that each term is positive. It penalizes the model for the negative error terms. This approach calculates the β0 and β1 values that minimize the sum of squared differences along the line of prediction."
   ]
  },
  {
   "cell_type": "code",
   "execution_count": 37,
   "id": "311d364c",
   "metadata": {},
   "outputs": [],
   "source": [
    "x = df.drop('SAT',axis=1)\n",
    "y = df['SAT']"
   ]
  },
  {
   "cell_type": "code",
   "execution_count": 38,
   "id": "aa96cdbf",
   "metadata": {},
   "outputs": [],
   "source": [
    "X_train, X_test, y_train, y_test = train_test_split(x, y, test_size=0.3, random_state=101)"
   ]
  },
  {
   "cell_type": "code",
   "execution_count": 43,
   "id": "ccfca00b",
   "metadata": {},
   "outputs": [
    {
     "data": {
      "text/html": [
       "<div>\n",
       "<style scoped>\n",
       "    .dataframe tbody tr th:only-of-type {\n",
       "        vertical-align: middle;\n",
       "    }\n",
       "\n",
       "    .dataframe tbody tr th {\n",
       "        vertical-align: top;\n",
       "    }\n",
       "\n",
       "    .dataframe thead th {\n",
       "        text-align: right;\n",
       "    }\n",
       "</style>\n",
       "<table border=\"1\" class=\"dataframe\">\n",
       "  <thead>\n",
       "    <tr style=\"text-align: right;\">\n",
       "      <th></th>\n",
       "      <th>General_knowledge</th>\n",
       "      <th>Aptitude</th>\n",
       "      <th>Mathematics</th>\n",
       "      <th>Science</th>\n",
       "    </tr>\n",
       "  </thead>\n",
       "  <tbody>\n",
       "    <tr>\n",
       "      <th>40</th>\n",
       "      <td>81</td>\n",
       "      <td>86</td>\n",
       "      <td>79</td>\n",
       "      <td>76</td>\n",
       "    </tr>\n",
       "    <tr>\n",
       "      <th>28</th>\n",
       "      <td>74</td>\n",
       "      <td>71</td>\n",
       "      <td>81</td>\n",
       "      <td>79</td>\n",
       "    </tr>\n",
       "    <tr>\n",
       "      <th>63</th>\n",
       "      <td>88</td>\n",
       "      <td>91</td>\n",
       "      <td>61</td>\n",
       "      <td>62</td>\n",
       "    </tr>\n",
       "    <tr>\n",
       "      <th>46</th>\n",
       "      <td>79</td>\n",
       "      <td>76</td>\n",
       "      <td>60</td>\n",
       "      <td>62</td>\n",
       "    </tr>\n",
       "    <tr>\n",
       "      <th>88</th>\n",
       "      <td>86</td>\n",
       "      <td>83</td>\n",
       "      <td>73</td>\n",
       "      <td>76</td>\n",
       "    </tr>\n",
       "    <tr>\n",
       "      <th>78</th>\n",
       "      <td>70</td>\n",
       "      <td>72</td>\n",
       "      <td>86</td>\n",
       "      <td>86</td>\n",
       "    </tr>\n",
       "    <tr>\n",
       "      <th>8</th>\n",
       "      <td>87</td>\n",
       "      <td>89</td>\n",
       "      <td>66</td>\n",
       "      <td>66</td>\n",
       "    </tr>\n",
       "    <tr>\n",
       "      <th>86</th>\n",
       "      <td>75</td>\n",
       "      <td>75</td>\n",
       "      <td>78</td>\n",
       "      <td>82</td>\n",
       "    </tr>\n",
       "    <tr>\n",
       "      <th>61</th>\n",
       "      <td>81</td>\n",
       "      <td>79</td>\n",
       "      <td>83</td>\n",
       "      <td>83</td>\n",
       "    </tr>\n",
       "    <tr>\n",
       "      <th>18</th>\n",
       "      <td>88</td>\n",
       "      <td>89</td>\n",
       "      <td>68</td>\n",
       "      <td>68</td>\n",
       "    </tr>\n",
       "    <tr>\n",
       "      <th>3</th>\n",
       "      <td>96</td>\n",
       "      <td>93</td>\n",
       "      <td>115</td>\n",
       "      <td>110</td>\n",
       "    </tr>\n",
       "    <tr>\n",
       "      <th>1</th>\n",
       "      <td>93</td>\n",
       "      <td>90</td>\n",
       "      <td>60</td>\n",
       "      <td>97</td>\n",
       "    </tr>\n",
       "    <tr>\n",
       "      <th>35</th>\n",
       "      <td>75</td>\n",
       "      <td>80</td>\n",
       "      <td>56</td>\n",
       "      <td>54</td>\n",
       "    </tr>\n",
       "    <tr>\n",
       "      <th>27</th>\n",
       "      <td>97</td>\n",
       "      <td>99</td>\n",
       "      <td>125</td>\n",
       "      <td>124</td>\n",
       "    </tr>\n",
       "    <tr>\n",
       "      <th>48</th>\n",
       "      <td>78</td>\n",
       "      <td>77</td>\n",
       "      <td>65</td>\n",
       "      <td>62</td>\n",
       "    </tr>\n",
       "    <tr>\n",
       "      <th>85</th>\n",
       "      <td>88</td>\n",
       "      <td>87</td>\n",
       "      <td>116</td>\n",
       "      <td>117</td>\n",
       "    </tr>\n",
       "    <tr>\n",
       "      <th>23</th>\n",
       "      <td>76</td>\n",
       "      <td>74</td>\n",
       "      <td>69</td>\n",
       "      <td>64</td>\n",
       "    </tr>\n",
       "    <tr>\n",
       "      <th>2</th>\n",
       "      <td>89</td>\n",
       "      <td>94</td>\n",
       "      <td>97</td>\n",
       "      <td>98</td>\n",
       "    </tr>\n",
       "    <tr>\n",
       "      <th>15</th>\n",
       "      <td>93</td>\n",
       "      <td>92</td>\n",
       "      <td>88</td>\n",
       "      <td>87</td>\n",
       "    </tr>\n",
       "    <tr>\n",
       "      <th>51</th>\n",
       "      <td>96</td>\n",
       "      <td>100</td>\n",
       "      <td>79</td>\n",
       "      <td>84</td>\n",
       "    </tr>\n",
       "    <tr>\n",
       "      <th>90</th>\n",
       "      <td>88</td>\n",
       "      <td>93</td>\n",
       "      <td>103</td>\n",
       "      <td>107</td>\n",
       "    </tr>\n",
       "    <tr>\n",
       "      <th>54</th>\n",
       "      <td>69</td>\n",
       "      <td>74</td>\n",
       "      <td>60</td>\n",
       "      <td>61</td>\n",
       "    </tr>\n",
       "    <tr>\n",
       "      <th>16</th>\n",
       "      <td>78</td>\n",
       "      <td>82</td>\n",
       "      <td>58</td>\n",
       "      <td>62</td>\n",
       "    </tr>\n",
       "    <tr>\n",
       "      <th>25</th>\n",
       "      <td>96</td>\n",
       "      <td>101</td>\n",
       "      <td>108</td>\n",
       "      <td>112</td>\n",
       "    </tr>\n",
       "    <tr>\n",
       "      <th>34</th>\n",
       "      <td>71</td>\n",
       "      <td>66</td>\n",
       "      <td>67</td>\n",
       "      <td>69</td>\n",
       "    </tr>\n",
       "    <tr>\n",
       "      <th>24</th>\n",
       "      <td>74</td>\n",
       "      <td>76</td>\n",
       "      <td>82</td>\n",
       "      <td>86</td>\n",
       "    </tr>\n",
       "    <tr>\n",
       "      <th>74</th>\n",
       "      <td>97</td>\n",
       "      <td>97</td>\n",
       "      <td>82</td>\n",
       "      <td>87</td>\n",
       "    </tr>\n",
       "  </tbody>\n",
       "</table>\n",
       "</div>"
      ],
      "text/plain": [
       "    General_knowledge   Aptitude   Mathematics   Science \n",
       "40                  81         86            79        76\n",
       "28                  74         71            81        79\n",
       "63                  88         91            61        62\n",
       "46                  79         76            60        62\n",
       "88                  86         83            73        76\n",
       "78                  70         72            86        86\n",
       "8                   87         89            66        66\n",
       "86                  75         75            78        82\n",
       "61                  81         79            83        83\n",
       "18                  88         89            68        68\n",
       "3                   96         93           115       110\n",
       "1                   93         90            60        97\n",
       "35                  75         80            56        54\n",
       "27                  97         99           125       124\n",
       "48                  78         77            65        62\n",
       "85                  88         87           116       117\n",
       "23                  76         74            69        64\n",
       "2                   89         94            97        98\n",
       "15                  93         92            88        87\n",
       "51                  96        100            79        84\n",
       "90                  88         93           103       107\n",
       "54                  69         74            60        61\n",
       "16                  78         82            58        62\n",
       "25                  96        101           108       112\n",
       "34                  71         66            67        69\n",
       "24                  74         76            82        86\n",
       "74                  97         97            82        87"
      ]
     },
     "execution_count": 43,
     "metadata": {},
     "output_type": "execute_result"
    }
   ],
   "source": [
    "X_test"
   ]
  },
  {
   "cell_type": "code",
   "execution_count": 40,
   "id": "ccd14eed",
   "metadata": {},
   "outputs": [
    {
     "name": "stdout",
     "output_type": "stream",
     "text": [
      "X_train_slr (62, 4)\n",
      "y_train_slr (62,)\n",
      "X_test_slr (27, 4)\n",
      "y_test_slr (27,)\n"
     ]
    }
   ],
   "source": [
    "# check the dimensions of the train & test subset using 'shape'\n",
    "# print dimension of train set\n",
    "print('X_train_slr', X_train.shape)\n",
    "print('y_train_slr', y_train.shape)\n",
    "\n",
    "# print dimension of test set\n",
    "print('X_test_slr', X_test.shape)\n",
    "print('y_test_slr', y_test.shape)"
   ]
  },
  {
   "cell_type": "code",
   "execution_count": 41,
   "id": "5aacd74b",
   "metadata": {},
   "outputs": [
    {
     "data": {
      "text/html": [
       "<div>\n",
       "<style scoped>\n",
       "    .dataframe tbody tr th:only-of-type {\n",
       "        vertical-align: middle;\n",
       "    }\n",
       "\n",
       "    .dataframe tbody tr th {\n",
       "        vertical-align: top;\n",
       "    }\n",
       "\n",
       "    .dataframe thead th {\n",
       "        text-align: right;\n",
       "    }\n",
       "</style>\n",
       "<table border=\"1\" class=\"dataframe\">\n",
       "  <thead>\n",
       "    <tr style=\"text-align: right;\">\n",
       "      <th></th>\n",
       "      <th>intercept</th>\n",
       "      <th>General_knowledge</th>\n",
       "      <th>Aptitude</th>\n",
       "      <th>Mathematics</th>\n",
       "      <th>Science</th>\n",
       "    </tr>\n",
       "  </thead>\n",
       "  <tbody>\n",
       "    <tr>\n",
       "      <th>29</th>\n",
       "      <td>1.000000</td>\n",
       "      <td>55</td>\n",
       "      <td>54</td>\n",
       "      <td>30</td>\n",
       "      <td>29</td>\n",
       "    </tr>\n",
       "    <tr>\n",
       "      <th>22</th>\n",
       "      <td>1.000000</td>\n",
       "      <td>78</td>\n",
       "      <td>83</td>\n",
       "      <td>92</td>\n",
       "      <td>94</td>\n",
       "    </tr>\n",
       "    <tr>\n",
       "      <th>77</th>\n",
       "      <td>1.000000</td>\n",
       "      <td>53</td>\n",
       "      <td>53</td>\n",
       "      <td>39</td>\n",
       "      <td>40</td>\n",
       "    </tr>\n",
       "    <tr>\n",
       "      <th>67</th>\n",
       "      <td>1.000000</td>\n",
       "      <td>74</td>\n",
       "      <td>74</td>\n",
       "      <td>50</td>\n",
       "      <td>47</td>\n",
       "    </tr>\n",
       "    <tr>\n",
       "      <th>73</th>\n",
       "      <td>1.000000</td>\n",
       "      <td>96</td>\n",
       "      <td>94</td>\n",
       "      <td>84</td>\n",
       "      <td>79</td>\n",
       "    </tr>\n",
       "  </tbody>\n",
       "</table>\n",
       "</div>"
      ],
      "text/plain": [
       "    intercept  General_knowledge   Aptitude   Mathematics   Science \n",
       "29   1.000000                  55         54            30        29\n",
       "22   1.000000                  78         83            92        94\n",
       "77   1.000000                  53         53            39        40\n",
       "67   1.000000                  74         74            50        47\n",
       "73   1.000000                  96         94            84        79"
      ]
     },
     "execution_count": 41,
     "metadata": {},
     "output_type": "execute_result"
    }
   ],
   "source": [
    "# convert the X_train to DataFrame\n",
    "X_train = pd.DataFrame(X_train)\n",
    "\n",
    "# insert a column of intercept to 'X_train_slr'\n",
    "# create an array of ones with length equal to the total number of observations\n",
    "c = np.ones(X_train.shape[0])\n",
    "\n",
    "# A design matrix is a matrix of observations of independent variables whose first column is of ones\n",
    "# If there are 'm' observations and 'n' variables, then the dimension of a design matrix is m * (n+1) \n",
    "\n",
    "# add the intercept \n",
    "# pass location index of intercept to the parameter 'loc'\n",
    "# pass column name to the parameter 'column'\n",
    "# pass the column value to the parameter 'value'\n",
    "X_train.insert(loc = 0, column = 'intercept', value = c)\n",
    "\n",
    "# display the first five rows of design matrix\n",
    "X_train.head()"
   ]
  },
  {
   "cell_type": "code",
   "execution_count": 42,
   "id": "d7ad6ac5",
   "metadata": {},
   "outputs": [
    {
     "data": {
      "text/html": [
       "<table class=\"simpletable\">\n",
       "<caption>OLS Regression Results</caption>\n",
       "<tr>\n",
       "  <th>Dep. Variable:</th>           <td>SAT</td>       <th>  R-squared:         </th> <td>   0.987</td>\n",
       "</tr>\n",
       "<tr>\n",
       "  <th>Model:</th>                   <td>OLS</td>       <th>  Adj. R-squared:    </th> <td>   0.986</td>\n",
       "</tr>\n",
       "<tr>\n",
       "  <th>Method:</th>             <td>Least Squares</td>  <th>  F-statistic:       </th> <td>   1042.</td>\n",
       "</tr>\n",
       "<tr>\n",
       "  <th>Date:</th>             <td>Wed, 31 May 2023</td> <th>  Prob (F-statistic):</th> <td>1.47e-52</td>\n",
       "</tr>\n",
       "<tr>\n",
       "  <th>Time:</th>                 <td>23:35:23</td>     <th>  Log-Likelihood:    </th> <td> -154.79</td>\n",
       "</tr>\n",
       "<tr>\n",
       "  <th>No. Observations:</th>      <td>    62</td>      <th>  AIC:               </th> <td>   319.6</td>\n",
       "</tr>\n",
       "<tr>\n",
       "  <th>Df Residuals:</th>          <td>    57</td>      <th>  BIC:               </th> <td>   330.2</td>\n",
       "</tr>\n",
       "<tr>\n",
       "  <th>Df Model:</th>              <td>     4</td>      <th>                     </th>     <td> </td>   \n",
       "</tr>\n",
       "<tr>\n",
       "  <th>Covariance Type:</th>      <td>nonrobust</td>    <th>                     </th>     <td> </td>   \n",
       "</tr>\n",
       "</table>\n",
       "<table class=\"simpletable\">\n",
       "<tr>\n",
       "           <td></td>             <th>coef</th>     <th>std err</th>      <th>t</th>      <th>P>|t|</th>  <th>[0.025</th>    <th>0.975]</th>  \n",
       "</tr>\n",
       "<tr>\n",
       "  <th>intercept</th>          <td>   -0.7370</td> <td>    3.459</td> <td>   -0.213</td> <td> 0.832</td> <td>   -7.663</td> <td>    6.189</td>\n",
       "</tr>\n",
       "<tr>\n",
       "  <th>General_knowledge </th> <td>    1.2072</td> <td>    0.122</td> <td>    9.890</td> <td> 0.000</td> <td>    0.963</td> <td>    1.452</td>\n",
       "</tr>\n",
       "<tr>\n",
       "  <th>Aptitude </th>          <td>   -0.1495</td> <td>    0.127</td> <td>   -1.179</td> <td> 0.243</td> <td>   -0.403</td> <td>    0.104</td>\n",
       "</tr>\n",
       "<tr>\n",
       "  <th>Mathematics </th>       <td>   -0.2261</td> <td>    0.123</td> <td>   -1.838</td> <td> 0.071</td> <td>   -0.473</td> <td>    0.020</td>\n",
       "</tr>\n",
       "<tr>\n",
       "  <th>Science </th>           <td>    1.1712</td> <td>    0.119</td> <td>    9.869</td> <td> 0.000</td> <td>    0.934</td> <td>    1.409</td>\n",
       "</tr>\n",
       "</table>\n",
       "<table class=\"simpletable\">\n",
       "<tr>\n",
       "  <th>Omnibus:</th>       <td> 8.474</td> <th>  Durbin-Watson:     </th> <td>   2.178</td>\n",
       "</tr>\n",
       "<tr>\n",
       "  <th>Prob(Omnibus):</th> <td> 0.014</td> <th>  Jarque-Bera (JB):  </th> <td>   2.880</td>\n",
       "</tr>\n",
       "<tr>\n",
       "  <th>Skew:</th>          <td> 0.104</td> <th>  Prob(JB):          </th> <td>   0.237</td>\n",
       "</tr>\n",
       "<tr>\n",
       "  <th>Kurtosis:</th>      <td> 1.965</td> <th>  Cond. No.          </th> <td>1.44e+03</td>\n",
       "</tr>\n",
       "</table><br/><br/>Notes:<br/>[1] Standard Errors assume that the covariance matrix of the errors is correctly specified.<br/>[2] The condition number is large, 1.44e+03. This might indicate that there are<br/>strong multicollinearity or other numerical problems."
      ],
      "text/plain": [
       "<class 'statsmodels.iolib.summary.Summary'>\n",
       "\"\"\"\n",
       "                            OLS Regression Results                            \n",
       "==============================================================================\n",
       "Dep. Variable:                    SAT   R-squared:                       0.987\n",
       "Model:                            OLS   Adj. R-squared:                  0.986\n",
       "Method:                 Least Squares   F-statistic:                     1042.\n",
       "Date:                Wed, 31 May 2023   Prob (F-statistic):           1.47e-52\n",
       "Time:                        23:35:23   Log-Likelihood:                -154.79\n",
       "No. Observations:                  62   AIC:                             319.6\n",
       "Df Residuals:                      57   BIC:                             330.2\n",
       "Df Model:                           4                                         \n",
       "Covariance Type:            nonrobust                                         \n",
       "======================================================================================\n",
       "                         coef    std err          t      P>|t|      [0.025      0.975]\n",
       "--------------------------------------------------------------------------------------\n",
       "intercept             -0.7370      3.459     -0.213      0.832      -7.663       6.189\n",
       "General_knowledge      1.2072      0.122      9.890      0.000       0.963       1.452\n",
       "Aptitude              -0.1495      0.127     -1.179      0.243      -0.403       0.104\n",
       "Mathematics           -0.2261      0.123     -1.838      0.071      -0.473       0.020\n",
       "Science                1.1712      0.119      9.869      0.000       0.934       1.409\n",
       "==============================================================================\n",
       "Omnibus:                        8.474   Durbin-Watson:                   2.178\n",
       "Prob(Omnibus):                  0.014   Jarque-Bera (JB):                2.880\n",
       "Skew:                           0.104   Prob(JB):                        0.237\n",
       "Kurtosis:                       1.965   Cond. No.                     1.44e+03\n",
       "==============================================================================\n",
       "\n",
       "Notes:\n",
       "[1] Standard Errors assume that the covariance matrix of the errors is correctly specified.\n",
       "[2] The condition number is large, 1.44e+03. This might indicate that there are\n",
       "strong multicollinearity or other numerical problems.\n",
       "\"\"\""
      ]
     },
     "execution_count": 42,
     "metadata": {},
     "output_type": "execute_result"
    }
   ],
   "source": [
    "# building a model on the train dataset with an intercept\n",
    "# fit() is used to fit the OLS model\n",
    "SLR_model = sm.OLS(y_train, X_train).fit()\n",
    "\n",
    "# print the summary output\n",
    "SLR_model.summary()"
   ]
  },
  {
   "cell_type": "code",
   "execution_count": 44,
   "id": "5c3d82d2",
   "metadata": {},
   "outputs": [
    {
     "data": {
      "text/plain": [
       "29    84.769434\n",
       "22   170.310084\n",
       "77    93.352849\n",
       "67   121.276301\n",
       "73   174.636261\n",
       "dtype: float64"
      ]
     },
     "execution_count": 44,
     "metadata": {},
     "output_type": "execute_result"
    }
   ],
   "source": [
    "# predict the SAT Score using 'predict()' on training data\n",
    "y_train_slr_pred = SLR_model.predict(X_train)\n",
    "\n",
    "# display the first five predicted values \n",
    "y_train_slr_pred.head()"
   ]
  },
  {
   "cell_type": "markdown",
   "id": "0dd3e312",
   "metadata": {},
   "source": [
    "Now we have actual and predicted values of the target variable for training dataset (y_train and y_train_pred respectively)"
   ]
  },
  {
   "cell_type": "markdown",
   "id": "32d54042",
   "metadata": {},
   "source": [
    "# 4.2 Measures of Variation"
   ]
  },
  {
   "cell_type": "markdown",
   "id": "005b1339",
   "metadata": {},
   "source": [
    "Residual: It is calculated as the difference between the actual and predicted value of the dependent variable."
   ]
  },
  {
   "cell_type": "markdown",
   "id": "be99aba8",
   "metadata": {},
   "source": [
    "# 4.2.1 Sum of Squared Residuals(SSR)"
   ]
  },
  {
   "cell_type": "code",
   "execution_count": 46,
   "id": "0ca8f722",
   "metadata": {},
   "outputs": [
    {
     "data": {
      "text/plain": [
       "39147.27308442505"
      ]
     },
     "execution_count": 46,
     "metadata": {},
     "output_type": "execute_result"
    }
   ],
   "source": [
    "# calculate the SSR on train dataset\n",
    "ssr = np.sum((y_train_slr_pred - y_train.mean())**2)\n",
    "ssr"
   ]
  },
  {
   "cell_type": "markdown",
   "id": "777c615d",
   "metadata": {},
   "source": [
    "# 4.2.2 Sum of Squared Error (SSE)"
   ]
  },
  {
   "cell_type": "markdown",
   "id": "12aaab0f",
   "metadata": {},
   "source": [
    "it is defined as the sum of the squared difference between the actual value and the predicted value."
   ]
  },
  {
   "cell_type": "code",
   "execution_count": 47,
   "id": "36686db0",
   "metadata": {},
   "outputs": [
    {
     "data": {
      "text/plain": [
       "535.1946575103698"
      ]
     },
     "execution_count": 47,
     "metadata": {},
     "output_type": "execute_result"
    }
   ],
   "source": [
    "# calculate the SSE on train dataset\n",
    "sse = np.sum((y_train - y_train_slr_pred)**2)\n",
    "sse"
   ]
  },
  {
   "cell_type": "markdown",
   "id": "2b36eb1d",
   "metadata": {},
   "source": [
    "# 4.2.3 Sum of Squared Total (SST)"
   ]
  },
  {
   "cell_type": "markdown",
   "id": "523a82bf",
   "metadata": {},
   "source": [
    "It is the sum of the squared difference between the actual value and the mean of the dependent variable."
   ]
  },
  {
   "cell_type": "code",
   "execution_count": 49,
   "id": "2757e300",
   "metadata": {},
   "outputs": [
    {
     "data": {
      "text/plain": [
       "39682.467741935485"
      ]
     },
     "execution_count": 49,
     "metadata": {},
     "output_type": "execute_result"
    }
   ],
   "source": [
    "# calculate the SST on train dataset\n",
    "sst = np.sum((y_train - y_train.mean())**2)\n",
    "sst"
   ]
  },
  {
   "cell_type": "code",
   "execution_count": 50,
   "id": "65a9802e",
   "metadata": {},
   "outputs": [
    {
     "data": {
      "text/plain": [
       "39682.46774193542"
      ]
     },
     "execution_count": 50,
     "metadata": {},
     "output_type": "execute_result"
    }
   ],
   "source": [
    "# add the values of SSE and SSR\n",
    "sse + ssr"
   ]
  },
  {
   "cell_type": "markdown",
   "id": "bdb3fdb7",
   "metadata": {},
   "source": [
    "Interpretation: From the abve putput, we can verify that SST (Total variation) is the sum of SSR and SSE."
   ]
  },
  {
   "cell_type": "markdown",
   "id": "470ddefc",
   "metadata": {},
   "source": [
    "# 4.2.4 Coefficient of Determination (R-Squared)¶"
   ]
  },
  {
   "cell_type": "markdown",
   "id": "d1350b0f",
   "metadata": {},
   "source": [
    "The coefficient of determination explains the percentage of variation in the dependent variable that the independent variables explain collectively."
   ]
  },
  {
   "cell_type": "code",
   "execution_count": 51,
   "id": "23eda2f8",
   "metadata": {},
   "outputs": [
    {
     "data": {
      "text/plain": [
       "0.9865130701802401"
      ]
     },
     "execution_count": 51,
     "metadata": {},
     "output_type": "execute_result"
    }
   ],
   "source": [
    "# calculate R-Squared on train dataset\n",
    "# use 'rsquared' method from statsmodel\n",
    "r_sq = SLR_model.rsquared\n",
    "\n",
    "# print the R-squared value\n",
    "r_sq"
   ]
  },
  {
   "cell_type": "markdown",
   "id": "40454b87",
   "metadata": {},
   "source": [
    "Now, we can also calculate the R-squared value using the formula (SSR/SST)."
   ]
  },
  {
   "cell_type": "code",
   "execution_count": 52,
   "id": "c9064025",
   "metadata": {},
   "outputs": [
    {
     "data": {
      "text/plain": [
       "0.9865130701802384"
      ]
     },
     "execution_count": 52,
     "metadata": {},
     "output_type": "execute_result"
    }
   ],
   "source": [
    "# calculate R-Squared on train dataset using the formula\n",
    "r_sq = ssr/sst\n",
    "\n",
    "# print the R-squared value\n",
    "r_sq"
   ]
  },
  {
   "cell_type": "markdown",
   "id": "70985954",
   "metadata": {},
   "source": [
    "Interpretation: From the above output we can conclude that our model explains 98.6% variation in the Total_Reimbursement. We can also obtain this value from the summary of the model."
   ]
  },
  {
   "cell_type": "markdown",
   "id": "9ba125e7",
   "metadata": {},
   "source": [
    "# 4.2.5 Standard Error of Estimate (SEE)"
   ]
  },
  {
   "cell_type": "markdown",
   "id": "5c35511f",
   "metadata": {},
   "source": [
    "The SEE is the measure of the variability of actual values around the prediction line. Smaller the value of SEE better is the model."
   ]
  },
  {
   "cell_type": "code",
   "execution_count": 67,
   "id": "36ec3efa",
   "metadata": {},
   "outputs": [
    {
     "data": {
      "text/plain": [
       "3.0376790638588496"
      ]
     },
     "execution_count": 67,
     "metadata": {},
     "output_type": "execute_result"
    }
   ],
   "source": [
    "# compute SEE using the below formula \n",
    "# see =  np.sqrt(sse/(len(train_data) - k))    \n",
    "\n",
    "# for SLR take k = 2, as there are two coefficients (parameters) in the model\n",
    "see = np.sqrt(sse/(len(X_train) - 4))    \n",
    "see"
   ]
  },
  {
   "cell_type": "markdown",
   "id": "796c7467",
   "metadata": {},
   "source": [
    "Let us visualize the variability around the predicted line using regression plot.Let us visualize the variability around the predicted line using regression plot.\n",
    "\n"
   ]
  },
  {
   "cell_type": "code",
   "execution_count": 68,
   "id": "5b909e68",
   "metadata": {},
   "outputs": [
    {
     "name": "stdout",
     "output_type": "stream",
     "text": [
      "    Actual Value  Predicted Value  Difference\n",
      "29            86        84.769434    1.230566\n",
      "22           176       170.310084    5.689916\n",
      "77            95        93.352849    1.647151\n",
      "67           121       121.276301   -0.276301\n",
      "73           171       174.636261   -3.636261\n",
      "58           148       150.771711   -2.771711\n",
      "33           147       150.214825   -3.214825\n",
      "62           143       143.816605   -0.816605\n",
      "26           191       187.331422    3.668578\n",
      "92           191       188.508203    2.491797\n",
      "36           186       184.914430    1.085570\n",
      "72           158       160.326514   -2.326514\n",
      "95           180       177.254113    2.745887\n",
      "19           180       182.176428   -2.176428\n",
      "80           199       196.519398    2.480602\n",
      "45           159       158.766146    0.233854\n",
      "82           153       148.948203    4.051797\n",
      "17           168       168.592541   -0.592541\n",
      "56           190       191.878479   -1.878479\n",
      "59           137       138.519647   -1.519647\n",
      "20           136       132.771017    3.228983\n",
      "66           143       147.571567   -4.571567\n",
      "49           188       190.321640   -2.321640\n",
      "41           167       164.051658    2.948342\n",
      "42           208       211.189581   -3.189581\n",
      "57           145       142.710802    2.289198\n",
      "70           165       167.133120   -2.133120\n",
      "9            158       155.859255    2.140745\n",
      "30           154       154.019017   -0.019017\n",
      "38           149       153.106135   -4.106135\n",
      "71           135       140.472762   -5.472762\n",
      "39           216       210.994137    5.005863\n",
      "76           161       163.313080   -2.313080\n",
      "50           153       150.456579    2.543421\n",
      "89           166       165.919588    0.080412\n",
      "60           203       201.783010    1.216990\n",
      "44           165       166.926722   -1.926722\n",
      "0            144       145.542448   -1.542448\n",
      "12           159       159.826645   -0.826645\n",
      "21           163       160.234264    2.765736\n",
      "47           146       141.164280    4.835720\n",
      "37           171       173.692680   -2.692680\n",
      "64           171       173.256249   -2.256249\n",
      "32           202       199.396226    2.603774\n",
      "10           147       150.277257   -3.277257\n",
      "52           115       110.579190    4.420810\n",
      "84           170       167.067282    2.932718\n",
      "14           140       139.461095    0.538905\n",
      "6            131       134.065476   -3.065476\n",
      "69           183       183.003727   -0.003727\n",
      "65           157       159.138656   -2.138656\n",
      "93           163       164.548367   -1.548367\n",
      "91           149       144.864387    4.135613\n",
      "4            157       154.763523    2.236477\n",
      "43           139       138.507176    0.492824\n",
      "83           169       163.579748    5.420252\n",
      "11           113       116.940176   -3.940176\n",
      "81           172       173.207416   -1.207416\n",
      "68           151       155.294706   -4.294706\n",
      "75           183       184.042955   -1.042955\n",
      "87           183       188.574771   -5.574771\n",
      "13           174       170.488032    3.511968\n"
     ]
    }
   ],
   "source": [
    "pred_df=pd.DataFrame({'Actual Value':y_train,'Predicted Value':y_train_slr_pred,'Difference':y_train-y_train_slr_pred})\n",
    "print(pred_df)"
   ]
  },
  {
   "cell_type": "code",
   "execution_count": 70,
   "id": "13d57820",
   "metadata": {},
   "outputs": [
    {
     "data": {
      "image/png": "[encoded data removed]",
      "text/plain": [
       "<Figure size 432x288 with 1 Axes>"
      ]
     },
     "metadata": {
      "needs_background": "light"
     },
     "output_type": "display_data"
    }
   ],
   "source": [
    "plt.scatter(y_train,y_train_slr_pred);\n",
    "plt.xlabel('Actual');\n",
    "plt.ylabel('Predicted');"
   ]
  },
  {
   "cell_type": "markdown",
   "id": "cc0d37b8",
   "metadata": {},
   "source": [
    "We can see there is no difference in the actual and predicted."
   ]
  },
  {
   "cell_type": "code",
   "execution_count": 71,
   "id": "cbd28bc6",
   "metadata": {},
   "outputs": [
    {
     "data": {
      "text/plain": [
       "<AxesSubplot:xlabel='SAT'>"
      ]
     },
     "execution_count": 71,
     "metadata": {},
     "output_type": "execute_result"
    },
    {
     "data": {
      "image/png": "[encoded data removed]",
      "text/plain": [
       "<Figure size 432x288 with 1 Axes>"
      ]
     },
     "metadata": {
      "needs_background": "light"
     },
     "output_type": "display_data"
    }
   ],
   "source": [
    "sns.regplot(x=y_train,y=y_train_slr_pred,ci=None,color ='pink')"
   ]
  },
  {
   "cell_type": "markdown",
   "id": "b37714b9",
   "metadata": {},
   "source": [
    "Interpretation: The pink line in the plot, indicates the regression line for the data. We can observe that most of the data points lie on (or near) the line. Also, some of the points are away from the line, which concludes the variation of the data to the fitted line."
   ]
  },
  {
   "cell_type": "markdown",
   "id": "d55aa3c4",
   "metadata": {},
   "source": [
    "# 4.3 Inferences about Slope and Intercept¶"
   ]
  },
  {
   "cell_type": "markdown",
   "id": "62fed51b",
   "metadata": {},
   "source": [
    "Let us print the summary of the regression model (built in section 4.1)."
   ]
  },
  {
   "cell_type": "code",
   "execution_count": 72,
   "id": "0ed46e6a",
   "metadata": {},
   "outputs": [
    {
     "name": "stdout",
     "output_type": "stream",
     "text": [
      "                            OLS Regression Results                            \n",
      "==============================================================================\n",
      "Dep. Variable:                    SAT   R-squared:                       0.987\n",
      "Model:                            OLS   Adj. R-squared:                  0.986\n",
      "Method:                 Least Squares   F-statistic:                     1042.\n",
      "Date:                Thu, 01 Jun 2023   Prob (F-statistic):           1.47e-52\n",
      "Time:                        00:19:30   Log-Likelihood:                -154.79\n",
      "No. Observations:                  62   AIC:                             319.6\n",
      "Df Residuals:                      57   BIC:                             330.2\n",
      "Df Model:                           4                                         \n",
      "Covariance Type:            nonrobust                                         \n",
      "======================================================================================\n",
      "                         coef    std err          t      P>|t|      [0.025      0.975]\n",
      "--------------------------------------------------------------------------------------\n",
      "intercept             -0.7370      3.459     -0.213      0.832      -7.663       6.189\n",
      "General_knowledge      1.2072      0.122      9.890      0.000       0.963       1.452\n",
      "Aptitude              -0.1495      0.127     -1.179      0.243      -0.403       0.104\n",
      "Mathematics           -0.2261      0.123     -1.838      0.071      -0.473       0.020\n",
      "Science                1.1712      0.119      9.869      0.000       0.934       1.409\n",
      "==============================================================================\n",
      "Omnibus:                        8.474   Durbin-Watson:                   2.178\n",
      "Prob(Omnibus):                  0.014   Jarque-Bera (JB):                2.880\n",
      "Skew:                           0.104   Prob(JB):                        0.237\n",
      "Kurtosis:                       1.965   Cond. No.                     1.44e+03\n",
      "==============================================================================\n",
      "\n",
      "Notes:\n",
      "[1] Standard Errors assume that the covariance matrix of the errors is correctly specified.\n",
      "[2] The condition number is large, 1.44e+03. This might indicate that there are\n",
      "strong multicollinearity or other numerical problems.\n"
     ]
    }
   ],
   "source": [
    "# print the model summary\n",
    "print(SLR_model.summary())"
   ]
  },
  {
   "cell_type": "markdown",
   "id": "3bbef189",
   "metadata": {},
   "source": [
    "# 4.3.2 The t-test for Slope and Intercept¶"
   ]
  },
  {
   "cell_type": "markdown",
   "id": "7e610e16",
   "metadata": {},
   "source": [
    "The coefficient of regression captures the presence of a linear relationship between the independent and dependent variables. If the coefficient value is zero, we can infer that there is no linear relationship between the two variables which is statistically important. It is calculated as:\n",
    "<p style='text-indent:28em'> <strong> t_value = coefficient / Standard_error </strong>  </p>\n",
    "\n",
    "The test hypothesis for the t-test is given as:\n",
    "<p style='text-indent:35em'> <strong> H<sub>o</sub>: β<sub>1</sub> = 0 </strong> </p>\n",
    "<p style='text-indent:35em'> <strong> H<sub>1</sub>: β<sub>1</sub> ≠ 0 </strong> </p>\n",
    "                                    \n",
    "Now, let us see how to calculate the t_test value for slope and intercept."
   ]
  },
  {
   "cell_type": "code",
   "execution_count": 74,
   "id": "31afa8aa",
   "metadata": {},
   "outputs": [
    {
     "data": {
      "text/plain": [
       "-0.21307093065768637"
      ]
     },
     "execution_count": 74,
     "metadata": {},
     "output_type": "execute_result"
    }
   ],
   "source": [
    "# perform t_test for intercept\n",
    "# 'params[0]' returns the value of intercept \n",
    "# 'bse[0]' returns the standard error of intercept\n",
    "t_intercept = SLR_model.params[0] / SLR_model.bse[0]\n",
    "\n",
    "# print the value of t-statistic\n",
    "t_intercept"
   ]
  },
  {
   "cell_type": "code",
   "execution_count": 75,
   "id": "f080fa92",
   "metadata": {},
   "outputs": [
    {
     "data": {
      "text/plain": [
       "9.890084800731923"
      ]
     },
     "execution_count": 75,
     "metadata": {},
     "output_type": "execute_result"
    }
   ],
   "source": [
    "# t_test for slope\n",
    "# 'params[1]' returns the value of slope\n",
    "# 'bse[1]' returns the standard error of slope\n",
    "t_slope = SLR_model.params[1] / SLR_model.bse[1]\n",
    "\n",
    "# print the value of t-statistic\n",
    "t_slope"
   ]
  },
  {
   "cell_type": "markdown",
   "id": "18f8be64",
   "metadata": {},
   "source": [
    "Now, let us see how to calculate the p-value associated with t_test value for slope and intercept."
   ]
  },
  {
   "cell_type": "code",
   "execution_count": 76,
   "id": "c0befdea",
   "metadata": {},
   "outputs": [
    {
     "data": {
      "text/plain": [
       "0.8319821313945737"
      ]
     },
     "execution_count": 76,
     "metadata": {},
     "output_type": "execute_result"
    }
   ],
   "source": [
    "# calculate p-value for intercept\n",
    "# use 'sf' (Survival function) from t-distribution to calculate the corresponding p-value\n",
    "\n",
    "# pass degrees of freedom and t-statistic value for intercept\n",
    "# degrees of freedom = n - 1 = 62 - 1 = 61\n",
    "pval = stats.t.sf(np.abs(t_intercept), 61)*2 \n",
    "pval"
   ]
  },
  {
   "cell_type": "code",
   "execution_count": 77,
   "id": "afc350eb",
   "metadata": {},
   "outputs": [
    {
     "data": {
      "text/plain": [
       "2.716495695311877e-14"
      ]
     },
     "execution_count": 77,
     "metadata": {},
     "output_type": "execute_result"
    }
   ],
   "source": [
    "# calculate p-value for slope\n",
    "# use 'sf' (Survival function) from t-distribution to calculate the corresponding p-value\n",
    "\n",
    "# pass degrees of freedom and t-statistic value for slope\n",
    "# degrees of freedom = n - 1 = 62 - 1 = 61\n",
    "pval = stats.t.sf(np.abs(t_slope), 61)*2 \n",
    "pval"
   ]
  },
  {
   "cell_type": "code",
   "execution_count": null,
   "id": "bf252ee0",
   "metadata": {},
   "outputs": [],
   "source": []
  },
  {
   "cell_type": "code",
   "execution_count": null,
   "id": "06e3bf73",
   "metadata": {},
   "outputs": [],
   "source": []
  },
  {
   "cell_type": "code",
   "execution_count": null,
   "id": "1f018438",
   "metadata": {},
   "outputs": [],
   "source": []
  }
 ],
 "metadata": {
  "kernelspec": {
   "display_name": "Python 3 (ipykernel)",
   "language": "python",
   "name": "python3"
  },
  "language_info": {
   "codemirror_mode": {
    "name": "ipython",
    "version": 3
   },
   "file_extension": ".py",
   "mimetype": "text/x-python",
   "name": "python",
   "nbconvert_exporter": "python",
   "pygments_lexer": "ipython3",
   "version": "3.9.7"
  }
 },
 "nbformat": 4,
 "nbformat_minor": 5
}
